{
 "cells": [
  {
   "cell_type": "code",
   "execution_count": 1,
   "metadata": {},
   "outputs": [
    {
     "name": "stdout",
     "output_type": "stream",
     "text": [
      "INFO:tensorflow:Enabling eager execution\n",
      "INFO:tensorflow:Enabling v2 tensorshape\n",
      "INFO:tensorflow:Enabling resource variables\n",
      "INFO:tensorflow:Enabling tensor equality\n",
      "INFO:tensorflow:Enabling control flow v2\n"
     ]
    }
   ],
   "source": [
    "import cv2\n",
    "import numpy as np\n",
    "import imutils\n",
    "#from tensorflow.keras.applications.resnet import preprocess_input\n",
    "from tensorflow.keras.preprocessing.image import img_to_array"
   ]
  },
  {
   "cell_type": "code",
   "execution_count": 2,
   "metadata": {},
   "outputs": [],
   "source": [
    "image = cv2.imread(\"final1.png\")\n",
    "gray = cv2.cvtColor(image, cv2.COLOR_BGR2GRAY)\n",
    "gray = cv2.GaussianBlur(gray, (5, 5), 0)"
   ]
  },
  {
   "cell_type": "code",
   "execution_count": 3,
   "metadata": {},
   "outputs": [],
   "source": [
    "#ret,thresh1 = cv2.threshold(gray ,127,255,cv2.THRESH_BINARY_INV)\n",
    "ret, thresh1 = cv2.threshold(gray, 0, 255, cv2.THRESH_OTSU | cv2.THRESH_BINARY_INV)"
   ]
  },
  {
   "cell_type": "code",
   "execution_count": 4,
   "metadata": {},
   "outputs": [],
   "source": [
    "rect_kern = cv2.getStructuringElement(cv2.MORPH_RECT, (1,1))"
   ]
  },
  {
   "cell_type": "code",
   "execution_count": 5,
   "metadata": {},
   "outputs": [],
   "source": [
    "#dilate = cv2.dilate(thresh1, None, iterations=1)\n",
    "dilate = cv2.dilate(thresh1, rect_kern, iterations = 1)"
   ]
  },
  {
   "cell_type": "code",
   "execution_count": 6,
   "metadata": {},
   "outputs": [],
   "source": [
    "cnts = cv2.findContours(dilate.copy(), cv2.RETR_EXTERNAL,\n",
    "    cv2.CHAIN_APPROX_SIMPLE)\n",
    "cnts = cnts[1] if imutils.is_cv3() else cnts[0]\n",
    "#cnts = cnts[0] if len(cnts) ==2 else cnts[1]"
   ]
  },
  {
   "cell_type": "code",
   "execution_count": 7,
   "metadata": {},
   "outputs": [],
   "source": [
    "sorted_ctrs = sorted(cnts, key=lambda ctr: cv2.boundingRect(ctr)[1] + cv2.boundingRect(ctr)[0] * image.shape[0] )\n",
    "#cnts = sorted(cnts, key=lambda x: cv2.boundingRect(x)[0])\n",
    "#cnts, hierarchy = cv2.findContours(dilate, cv2.RETR_TREE, cv2.CHAIN_APPROX_SIMPLE)\n",
    "#cnts, hierarchy = cv2.findContours(dilate, cv2.RETR_TREE, cv2.CHAIN_APPROX_SIMPLE)\n",
    "   "
   ]
  },
  {
   "cell_type": "code",
   "execution_count": 8,
   "metadata": {},
   "outputs": [],
   "source": [
    "# sort contours left-to-right\n",
    "#sorted_ctrs = sorted(cnts, key=lambda ctr: cv2.boundingRect(ctr)[0])"
   ]
  },
  {
   "cell_type": "code",
   "execution_count": null,
   "metadata": {},
   "outputs": [],
   "source": []
  },
  {
   "cell_type": "code",
   "execution_count": 12,
   "metadata": {},
   "outputs": [
    {
     "ename": "ValueError",
     "evalue": "cannot reshape array of size 3072 into shape (1,32,32,1)",
     "output_type": "error",
     "traceback": [
      "\u001b[1;31m---------------------------------------------------------------------------\u001b[0m",
      "\u001b[1;31mValueError\u001b[0m                                Traceback (most recent call last)",
      "\u001b[1;32m<ipython-input-12-975332eeb2f5>\u001b[0m in \u001b[0;36m<module>\u001b[1;34m\u001b[0m\n\u001b[0;32m     20\u001b[0m         \u001b[0mroi\u001b[0m \u001b[1;33m=\u001b[0m \u001b[0mnp\u001b[0m\u001b[1;33m.\u001b[0m\u001b[0mexpand_dims\u001b[0m\u001b[1;33m(\u001b[0m\u001b[0mroi\u001b[0m\u001b[1;33m,\u001b[0m \u001b[0maxis\u001b[0m \u001b[1;33m=\u001b[0m \u001b[1;36m0\u001b[0m\u001b[1;33m)\u001b[0m\u001b[1;33m\u001b[0m\u001b[1;33m\u001b[0m\u001b[0m\n\u001b[0;32m     21\u001b[0m         \u001b[0mroi\u001b[0m \u001b[1;33m=\u001b[0m \u001b[0mnp\u001b[0m\u001b[1;33m.\u001b[0m\u001b[0mexpand_dims\u001b[0m\u001b[1;33m(\u001b[0m\u001b[0mroi\u001b[0m\u001b[1;33m,\u001b[0m \u001b[0maxis\u001b[0m \u001b[1;33m=\u001b[0m \u001b[1;36m3\u001b[0m\u001b[1;33m)\u001b[0m\u001b[1;33m\u001b[0m\u001b[1;33m\u001b[0m\u001b[0m\n\u001b[1;32m---> 22\u001b[1;33m         \u001b[0mroi\u001b[0m \u001b[1;33m=\u001b[0m \u001b[0mroi\u001b[0m\u001b[1;33m.\u001b[0m\u001b[0mreshape\u001b[0m\u001b[1;33m(\u001b[0m\u001b[0mroi\u001b[0m\u001b[1;33m.\u001b[0m\u001b[0mshape\u001b[0m\u001b[1;33m[\u001b[0m\u001b[1;36m0\u001b[0m\u001b[1;33m]\u001b[0m\u001b[1;33m,\u001b[0m\u001b[1;36m32\u001b[0m\u001b[1;33m,\u001b[0m\u001b[1;36m32\u001b[0m\u001b[1;33m,\u001b[0m\u001b[1;36m1\u001b[0m\u001b[1;33m)\u001b[0m\u001b[1;33m.\u001b[0m\u001b[0mastype\u001b[0m\u001b[1;33m(\u001b[0m\u001b[1;34m'float32'\u001b[0m\u001b[1;33m)\u001b[0m\u001b[1;33m\u001b[0m\u001b[1;33m\u001b[0m\u001b[0m\n\u001b[0m\u001b[0;32m     23\u001b[0m         \u001b[0mroi\u001b[0m \u001b[1;33m=\u001b[0m \u001b[0mroi\u001b[0m \u001b[1;33m/\u001b[0m \u001b[1;36m255\u001b[0m\u001b[1;33m\u001b[0m\u001b[1;33m\u001b[0m\u001b[0m\n\u001b[0;32m     24\u001b[0m         \u001b[0mpredictions\u001b[0m \u001b[1;33m=\u001b[0m \u001b[0mnew_model\u001b[0m\u001b[1;33m.\u001b[0m\u001b[0mpredict\u001b[0m\u001b[1;33m(\u001b[0m\u001b[0mnp\u001b[0m\u001b[1;33m.\u001b[0m\u001b[0marray\u001b[0m\u001b[1;33m(\u001b[0m\u001b[0mroi\u001b[0m\u001b[1;33m)\u001b[0m\u001b[1;33m)\u001b[0m\u001b[1;33m\u001b[0m\u001b[1;33m\u001b[0m\u001b[0m\n",
      "\u001b[1;31mValueError\u001b[0m: cannot reshape array of size 3072 into shape (1,32,32,1)"
     ]
    }
   ],
   "source": [
    "orig = image.copy()\n",
    "i = 0\n",
    "string=\"\"\n",
    "#rois=[]\n",
    "for cnt in sorted_ctrs:\n",
    "    # Check the area of contour, if it is very small ignore it\n",
    "    #if(cv2.contourArea(cnt) < 100):\n",
    "        #continue\n",
    "\n",
    "    # Filtered countours are detected\n",
    "    x,y,w,h = cv2.boundingRect(cnt)\n",
    "    \n",
    "    if (w >3 and h > 5):\n",
    "    \n",
    "        # Taking ROI of the cotour\n",
    "        roi = image[y-1:y+h+2, x-1:x+w+2]\n",
    "        #print(type(roi))\n",
    "        roi = cv2.resize(roi, (32,32))\n",
    "        #pass the data into model\n",
    "        roi = np.expand_dims(roi, axis = 0)\n",
    "        roi = np.expand_dims(roi, axis = 3)\n",
    "        roi = roi.reshape(roi.shape[0],32,32,1).astype('float32')\n",
    "        roi = roi / 255\n",
    "        predictions = new_model.predict(np.array(roi))\n",
    "        string += CATEGORIES[np.argmax(predictions[0])]\n",
    "        print(\"Predicted string is : \" ,string)\n",
    "        # Mark them on the image if you want\n",
    "        cv2.rectangle(orig,(x,y),(x+w,y+h),(0,255,0),2)\n",
    "\n",
    "        # Save your contours or characters\n",
    "        cv2.imwrite(\"Images/roi\" + str(i) + \".png\", roi)\n",
    "\n",
    "        i = i + 1 "
   ]
  },
  {
   "cell_type": "code",
   "execution_count": 10,
   "metadata": {},
   "outputs": [
    {
     "data": {
      "text/plain": [
       "True"
      ]
     },
     "execution_count": 10,
     "metadata": {},
     "output_type": "execute_result"
    }
   ],
   "source": [
    "cv2.imwrite(\"box1.jpg\",orig)"
   ]
  },
  {
   "cell_type": "code",
   "execution_count": 11,
   "metadata": {},
   "outputs": [
    {
     "name": "stdout",
     "output_type": "stream",
     "text": [
      "WARNING:tensorflow:Compiled the loaded model, but the compiled metrics have yet to be built. `model.compile_metrics` will be empty until you train or evaluate the model.\n",
      "WARNING:tensorflow:No training configuration found in the save file, so the model was *not* compiled. Compile it manually.\n"
     ]
    },
    {
     "ename": "NameError",
     "evalue": "name 'img' is not defined",
     "output_type": "error",
     "traceback": [
      "\u001b[1;31m---------------------------------------------------------------------------\u001b[0m",
      "\u001b[1;31mNameError\u001b[0m                                 Traceback (most recent call last)",
      "\u001b[1;32m<ipython-input-11-8f307aa3e11a>\u001b[0m in \u001b[0;36m<module>\u001b[1;34m\u001b[0m\n\u001b[0;32m     31\u001b[0m     \u001b[0mprint\u001b[0m\u001b[1;33m(\u001b[0m\u001b[0mstr\u001b[0m\u001b[1;33m(\u001b[0m\u001b[0mchar_label\u001b[0m\u001b[1;33m[\u001b[0m\u001b[1;36m0\u001b[0m\u001b[1;33m]\u001b[0m\u001b[1;33m)\u001b[0m\u001b[1;33m,\u001b[0m\u001b[0morig\u001b[0m\u001b[1;33m)\u001b[0m\u001b[1;33m\u001b[0m\u001b[1;33m\u001b[0m\u001b[0m\n\u001b[0;32m     32\u001b[0m     \u001b[1;31m#return char_label, success\u001b[0m\u001b[1;33m\u001b[0m\u001b[1;33m\u001b[0m\u001b[1;33m\u001b[0m\u001b[0m\n\u001b[1;32m---> 33\u001b[1;33m \u001b[0mprediction\u001b[0m\u001b[1;33m(\u001b[0m\u001b[0morig\u001b[0m\u001b[1;33m)\u001b[0m\u001b[1;33m\u001b[0m\u001b[1;33m\u001b[0m\u001b[0m\n\u001b[0m",
      "\u001b[1;32m<ipython-input-11-8f307aa3e11a>\u001b[0m in \u001b[0;36mprediction\u001b[1;34m(orig)\u001b[0m\n\u001b[0;32m     21\u001b[0m     \u001b[1;31m#categories = categories.split(',')\u001b[0m\u001b[1;33m\u001b[0m\u001b[1;33m\u001b[0m\u001b[1;33m\u001b[0m\u001b[0m\n\u001b[0;32m     22\u001b[0m \u001b[1;33m\u001b[0m\u001b[0m\n\u001b[1;32m---> 23\u001b[1;33m     \u001b[0mx\u001b[0m \u001b[1;33m=\u001b[0m \u001b[0mnp\u001b[0m\u001b[1;33m.\u001b[0m\u001b[0masarray\u001b[0m\u001b[1;33m(\u001b[0m\u001b[0mimg\u001b[0m\u001b[1;33m,\u001b[0m \u001b[0mdtype\u001b[0m \u001b[1;33m=\u001b[0m \u001b[0mnp\u001b[0m\u001b[1;33m.\u001b[0m\u001b[0mfloat32\u001b[0m\u001b[1;33m)\u001b[0m\u001b[1;33m.\u001b[0m\u001b[0mreshape\u001b[0m\u001b[1;33m(\u001b[0m\u001b[1;36m1\u001b[0m\u001b[1;33m,\u001b[0m \u001b[1;36m64\u001b[0m\u001b[1;33m,\u001b[0m \u001b[1;36m64\u001b[0m\u001b[1;33m,\u001b[0m \u001b[1;36m1\u001b[0m\u001b[1;33m)\u001b[0m\u001b[1;33m/\u001b[0m\u001b[1;36m255\u001b[0m\u001b[1;33m\u001b[0m\u001b[1;33m\u001b[0m\u001b[0m\n\u001b[0m\u001b[0;32m     24\u001b[0m \u001b[1;33m\u001b[0m\u001b[0m\n\u001b[0;32m     25\u001b[0m     \u001b[0moutput\u001b[0m \u001b[1;33m=\u001b[0m \u001b[0mloaded_model\u001b[0m\u001b[1;33m.\u001b[0m\u001b[0mpredict\u001b[0m\u001b[1;33m(\u001b[0m\u001b[0mx\u001b[0m\u001b[1;33m)\u001b[0m\u001b[1;33m\u001b[0m\u001b[1;33m\u001b[0m\u001b[0m\n",
      "\u001b[1;31mNameError\u001b[0m: name 'img' is not defined"
     ]
    }
   ],
   "source": [
    "import numpy as np\n",
    "from keras.models import model_from_json\n",
    "from keras.models import load_model\n",
    "\n",
    "def prediction(orig):\n",
    "    # load json and create model\n",
    "    json_file = open('dcr1.json', 'r')\n",
    "    \n",
    "    loaded_model_json = json_file.read()\n",
    "    json_file.close()\n",
    "    loaded_model = model_from_json(loaded_model_json)\n",
    "    \n",
    "    # load weights into new model\n",
    "    loaded_model.load_weights(\"dcr1.h5\")\n",
    "    #print(\"Loaded model from disk\")\n",
    "    \n",
    "    loaded_model.save('dcr1.hdf5')\n",
    "    loaded_model=load_model('dcr1.hdf5')\n",
    "    \n",
    "    categories  = {'0':'0', 'A':'A', 'B':'B', 'C':\"C\", 'D':'D', 'E':'E', 'F':'F', 'G':'G', 'H':'H', 'I':'I', 'J':'J', 'K':'K', 'L':'L', 'M':'M', 'N':'N', 'O':'O', 'P':'P', 'Q':'Q', 'R':'R', 'S':'S', 'T':'T', 'U':'U', 'V':'V', 'W':'W', 'X':'X', 'Y':'Y','Z':'Z', 'RA':'रा', 'a_':'a', 'b_':'b', 'c_':'c', 'd_':'d', 'e_':'e', 'f_':'f', 'g_':'g', 'h_':'h', 'i_':'i', 'j_':'j', 'k_':'k', 'l_':'l', 'm_':'m', 'n_':'n', 'o_':'o', 'p_':'p', 'q_':'q', 'r_':'r', 's_':'s', 't_':'t', 'u_':'u', 'v_':'v', 'w_':'w', 'x_':'x', 'y_':'y', 'z_':'z', 'kk':'क'} \n",
    "    #categories = categories.split(',')\n",
    "    \n",
    "    x = np.asarray(img, dtype = np.float32).reshape(1, 64, 64, 1)/255\n",
    "    \n",
    "    output = loaded_model.predict(x)\n",
    "    output = output.reshape(55)\n",
    "    predicted = np.argmax(output)\n",
    "    char_label = categories[list(categories.keys())[predicted]]\n",
    "    success = output[predicted] * 100\n",
    "#     \n",
    "    print(str(char_label[0]),orig)\n",
    "    #return char_label, success\n",
    "prediction(orig)"
   ]
  },
  {
   "cell_type": "code",
   "execution_count": null,
   "metadata": {},
   "outputs": [],
   "source": [
    "from glob import glob\n",
    "import os\n",
    "import cv2\n",
    "\n",
    "in_dir = 'Images'\n",
    "    \n",
    "infiles = in_dir + '/*.png'\n",
    "img_names = glob(infiles)\n",
    "print(img_names)\n",
    "\n",
    "\n",
    "def classifier(img_names):\n",
    "#     in_dir = 'Images'\n",
    "    \n",
    "#     infiles = in_dir + '/*.png'\n",
    "#     img_names = glob(infiles)\n",
    "#     print(img_names)\n",
    "    pred_lbl = \"\"\n",
    "    acc = []\n",
    "    i =0\n",
    "    for fn in (img_names):\n",
    "        #print('processing %s...' % fn)\n",
    "        print('string:',fn)\n",
    "#         print(type(fn))\n",
    "#         fn = np.fromstring(fn, dtype =np.float64)\n",
    "#         print(type(r))\n",
    "        fn = img_to_array(fn)\n",
    "        print(type(fn))\n",
    "        #fn = list(map(float,fn.split('.')))\n",
    "        fn = cv2.resize(fn, (64,64))\n",
    "    #roi = img_to_array(roi)\n",
    "    #roi = preprocess_input(roi)\n",
    "    #segment = cv2.GaussianBlur(segment, (3, 3), 0)\n",
    "    #segment = cv2.erode(segment, (3, 3), 1)\n",
    "    #show(segment)\n",
    "\n",
    "        lbl, a = prediction(fn)\n",
    "        pred_lbl+=lbl\n",
    "        acc.append(a)\n",
    "    return pred_lbl, np.array(acc).mean()\n",
    "classifier(img_names[0])"
   ]
  },
  {
   "cell_type": "code",
   "execution_count": null,
   "metadata": {},
   "outputs": [],
   "source": [
    "import os\n",
    "from keras.preprocessing import image\n",
    "\n",
    "def classifier(folder_path):\n",
    "    pred_lbl = \"\"\n",
    "    acc = []\n",
    "    folder_path = 'C:/Users/bivan/Desktop/preprocessing/temp/'\n",
    "    img_width, img_height = 64, 64\n",
    "    for img in os.listdir(folder_path):\n",
    "        img = os.path.join(folder_path, img)\n",
    "        img = image.load_img(img, target_size=(img_width, img_height))\n",
    "        img = image.img_to_array(img)\n",
    "        img_name = cv2.resize(img, (64,64))\n",
    "        #segment = cv2.GaussianBlur(segment, (3, 3), 0)\n",
    "        #segment = cv2.erode(segment, (3, 3), 1)\n",
    "        #show(segment)\n",
    "        \n",
    "        lbl, a = prediction(img)\n",
    "        pred_lbl+=lbl\n",
    "        acc.append(a)\n",
    "    return pred_lbl, np.array(acc).mean()\n",
    "classifier(folder_path[0])"
   ]
  },
  {
   "cell_type": "code",
   "execution_count": null,
   "metadata": {},
   "outputs": [],
   "source": [
    "\n"
   ]
  },
  {
   "cell_type": "code",
   "execution_count": null,
   "metadata": {},
   "outputs": [],
   "source": []
  },
  {
   "cell_type": "code",
   "execution_count": null,
   "metadata": {},
   "outputs": [],
   "source": [
    "import cv2\n",
    "import tensorflow as tf\n",
    "import matplotlib.pyplot as plt\n",
    "#from google.colab.patches import cv2_imshow\n",
    "'''from google.colab import files\n",
    "upload = files.upload()'''\n",
    "model = tf.keras.models.load_model('cnn.model')\n",
    "\n",
    "img = cv2.imread(r'C:\\Users\\bivan\\Desktop\\preprocessing\\Images\\roi2.png')\n",
    "plt.imshow(img)\n",
    "plt.show()\n",
    "img_copy = img.copy()\n",
    "\n",
    "img = cv2.cvtColor(img, cv2.COLOR_BGR2RGB)\n",
    "img = cv2.resize(img, (64,64))\n",
    "\n",
    "img_copy = cv2.GaussianBlur(img_copy, (3,3), 0)\n",
    "img_gray = cv2.cvtColor(img_copy, cv2.COLOR_BGR2GRAY)\n",
    "_, img_thresh = cv2.threshold(img_gray, 100, 255, cv2.THRESH_BINARY)\n",
    "\n",
    "img_final = cv2.resize(img_thresh, (64,64))\n",
    "img_final =np.reshape(img_final, (1,64,64,-1))\n",
    "plt.imshow(img_thresh,cmap='gray')\n",
    "plt.show()\n",
    "\n",
    "# img_final = cv2.resize(img, (64,64))\n",
    "# img_final =np.reshape(img_thresh,(1,64,64,-1))\n",
    "\n",
    "categories  = {'0':'0', 'A':'A', 'B':'B', 'C':\"C\", 'D':'D', 'E':'E', 'F':'F', 'G':'G', 'H':'H', 'I':'I', 'J':'J', 'K':'K', 'aa1':'आ', 'cc1':'ক', 'mm1':'ম', 'L':'L', 'M':'M', 'N':'N', 'O':'O', 'P':'P', 'Q':'Q', 'R':'R', 'S':'S', 'T':'T', 'U':'U', 'V':'V', 'W':'W', 'X':'X', 'Y':'Y','Z':'Z', 'RA':'रा', 'a_':'a', 'b_':'b', 'c_':'c', 'd_':'d', 'e_':'e', 'f_':'f', 'g_':'g', 'h_':'h', 'i_':'i', 'j_':'j', 'k_':'k', 'l_':'l', 'm_':'m', 'n_':'n', 'o_':'o', 'p_':'p', 'q_':'q', 'r_':'r', 's_':'s', 't_':'t', 'u_':'u', 'v_':'v', 'w_':'w', 'x_':'x', 'y_':'y', 'z_':'z', 'kk':'क'} \n",
    "    #categories = categories.split(',')\n",
    "\n",
    "#img_pred = categories[np.argmax(model.predict(img_final))]\n",
    "\n",
    "predictions = model.predict(img_final)\n",
    "score = tf.nn.softmax(predictions[0])\n",
    "print(\n",
    "    \"This image most likely is {} with a {:.2f} percent confidence.\".format(categories[list(categories.keys())[np.argmax(score)]], 100*np.max(score))\n",
    ")\n",
    "\n"
   ]
  },
  {
   "cell_type": "code",
   "execution_count": null,
   "metadata": {},
   "outputs": [],
   "source": [
    "import tensorflow as tf\n",
    "from keras.preprocessing import image\n",
    "import numpy as np\n",
    "import os\n",
    "\n",
    "# image folder\n",
    "folder_path = 'C:/Users/bivan/Desktop/preprocessing/Images/'\n",
    "\n",
    "img_width, img_height = 64, 64\n",
    "\n",
    "# load the trained model\n",
    "model = tf.keras.models.load_model('cnn.model')\n",
    "#model = load_model(model_path)\n",
    "model.compile(loss='binary_crossentropy',\n",
    "              optimizer='rmsprop',\n",
    "              metrics=['accuracy'])\n",
    "\n",
    "# load all images into a list\n",
    "images = []\n",
    "img_list=[]\n",
    "categories  = {'0':'0', 'A':'A', 'B':'B', 'C':\"C\", 'D':'D', 'E':'E', 'F':'F', 'G':'G', 'H':'H', 'I':'I', 'J':'J', 'K':'K', 'L':'L', 'M':'M', 'N':'N', 'O':'O', 'P':'P', 'Q':'Q', 'R':'R', 'S':'S', 'T':'T', 'U':'U', 'V':'V', 'W':'W', 'X':'X', 'Y':'Y','Z':'Z', 'रा':'रा ', 'a_':'a', 'b_':'b', 'c_':'c', 'd_':'d', 'e_':'e', 'f_':'f', 'g_':'g', 'h_':'h', 'i_':'i', 'j_':'j', 'k_':'k', 'l_':'l', 'm_':'m', 'n_':'n', 'o_':'o', 'p_':'p', 'q_':'q', 'r_':'r', 's_':'s', 't_':'t', 'aa1':'आ', 'cc1':'ক', 'mm1':'ম', 'u_':'u', 'v_':'v', 'w_':'w', 'x_':'x', 'y_':'y', 'z_':'z', '1':'क'} \n",
    "  \n",
    "for img in os.listdir(folder_path):\n",
    "    img = os.path.join(folder_path, img)\n",
    "    img = image.load_img(img, target_size=(img_width, img_height))\n",
    "    img = image.img_to_array(img)\n",
    "    img_copy = img.copy()\n",
    "    img = cv2.cvtColor(img, cv2.COLOR_BGR2RGB)\n",
    "    img_copy = cv2.GaussianBlur(img_copy, (3,3), 0)\n",
    "    #img_copy = cv2.erode(img_copy, (3, 3), 1)\n",
    "    img_gray = cv2.cvtColor(img_copy, cv2.COLOR_BGR2GRAY)\n",
    "    _, img_thresh = cv2.threshold(img_gray, 127, 255, cv2.THRESH_BINARY)\n",
    "    \n",
    "    img_final = np.resize(img_thresh, (64,64))\n",
    "    img_final =np.reshape(img_final, (1,64,64,-1))\n",
    "#     plt.imshow(img_thresh, cmap='gray')\n",
    "#     plt.show()\n",
    "    #images.append(img_final)\n",
    "    #print(images)\n",
    "    #img_list.append(img_thresh)\n",
    "    predictions = model.predict(img_final)\n",
    "    score = tf.nn.softmax(predictions[0])\n",
    "    \n",
    "    \n",
    "    result =  [categories[list(categories.keys())[np.argmax(score)]]]\n",
    "    #images.append(result)\n",
    "    #print(type(result))\n",
    "    print(result)\n",
    "    for sublist in result:\n",
    "        #for item in sublist:\n",
    "        images.append(sublist)\n",
    "        print(images)\n",
    "                                                     \n",
    "# some_list=['C:/Users/bivan/Desktop/preprocessing/temp/']\n",
    "# # for img_path in os.listdir(folder_path):\n",
    "# #     some_list.append(img_path)\n",
    "    \n",
    "#print(some_list)\n",
    "\n",
    "# from glob import glob\n",
    "# import os\n",
    "# import cv2\n",
    "\n",
    "# in_dir = 'temp'\n",
    "    \n",
    "# infiles = in_dir + '/*.jpg'\n",
    "# img_names = glob(infiles)\n",
    "\n",
    "# # for img_path in os.listdir(folder_path):\n",
    "# #     img_names.append(img_path)\n",
    "    \n",
    "# #print(img_names)\n",
    "# img_names.append(img_names)"
   ]
  },
  {
   "cell_type": "code",
   "execution_count": null,
   "metadata": {},
   "outputs": [],
   "source": [
    "#print(images)\n",
    "string1=''.join(images)\n",
    "print(string1)\n",
    "    #print(\"{:} \".format(*images))"
   ]
  },
  {
   "cell_type": "code",
   "execution_count": null,
   "metadata": {},
   "outputs": [],
   "source": []
  },
  {
   "cell_type": "code",
   "execution_count": null,
   "metadata": {},
   "outputs": [],
   "source": [
    "import os\n",
    "folder_path = 'C:/Users/bivan/Desktop/preprocessing/Images/'\n",
    "filelist = [ f for f in os.listdir(folder_path) if f.endswith(\".png\") ]\n",
    "for f in filelist:\n",
    "    os.remove(os.path.join(folder_path, f))"
   ]
  },
  {
   "cell_type": "code",
   "execution_count": null,
   "metadata": {},
   "outputs": [],
   "source": [
    "# def load_and_prep_image(filename, img_shape=64):\n",
    "\n",
    "# #   Reads an image from filename, turns it into a tensor\n",
    "# #   and reshapes it to (img_shape, img_shape, colour_channel).\n",
    "  \n",
    "#   # Read in target file (an image)\n",
    "#     img = tf.io.read_file(filename)\n",
    "\n",
    "# #   Decode the read file into a tensor & ensure 3 colour channels \n",
    "# #   (our model is trained on images with 3 colour channels and sometimes images have 4 colour channels)\n",
    "#     img = tf.image.decode_image(img, channels=1)\n",
    "\n",
    "# #   Resize the image (to the same size our model was trained on)\n",
    "#     img = tf.image.resize(img, size = [img_shape, img_shape])\n",
    "\n",
    "# #   Rescale the image (get all values between 0 and 1)\n",
    "#     img = img/255.0\n",
    "#     return img\n",
    "\n",
    "letters = []\n",
    "for img_name in images:\n",
    "     # Import the target image and preprocess it\n",
    "    #img =load_and_prep_image(img_name )\n",
    "    print(img_name)\n",
    "  # Make a prediction\n",
    "    #pred = model.predict(tf.expand_dims(img, axis=0))\n",
    "    pred = model.predict(img_name)\n",
    "    class_names=['A','s', 's', 'i', 'g', 'n', 'm', 'e', 't']\n",
    "\n",
    "  # Get the predicted class\n",
    "    pred_class = categories[list(categories.keys())[int(tf.round(pred)[0][0])]\n",
    "\n",
    "  #save the letter\n",
    "    letters.append(pred_class )\n",
    "\n",
    "output = []\n",
    "\n",
    "for letter in letters:\n",
    "    output += letter \n",
    "print(output)"
   ]
  },
  {
   "cell_type": "code",
   "execution_count": null,
   "metadata": {},
   "outputs": [],
   "source": [
    "letters = []\n",
    "for some in some_list:\n",
    "     # Import the target image and preprocess it\n",
    "    img =load_and_prep_image(some)\n",
    "\n",
    "  # Make a prediction\n",
    "    pred = model.predict(tf.expand_dims(img, axis=0))\n",
    "\n",
    "  # Get the predicted class\n",
    "    pred_class = class_names[int(tf.round(pred)[0][0])]\n",
    "\n",
    "  #save the letter\n",
    "    letters.append(pred_class )\n",
    "\n",
    "output = []\n",
    "\n",
    "for letter in letters:\n",
    "    output =+ letter \n",
    "print(output)"
   ]
  },
  {
   "cell_type": "code",
   "execution_count": null,
   "metadata": {},
   "outputs": [],
   "source": []
  }
 ],
 "metadata": {
  "kernelspec": {
   "display_name": "Python 3",
   "language": "python",
   "name": "python3"
  },
  "language_info": {
   "codemirror_mode": {
    "name": "ipython",
    "version": 3
   },
   "file_extension": ".py",
   "mimetype": "text/x-python",
   "name": "python",
   "nbconvert_exporter": "python",
   "pygments_lexer": "ipython3",
   "version": "3.9.4"
  }
 },
 "nbformat": 4,
 "nbformat_minor": 2
}
